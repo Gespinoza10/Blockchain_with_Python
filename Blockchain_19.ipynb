{
 "cells": [
  {
   "cell_type": "markdown",
   "id": "a02205f4-680c-47bb-a1f7-5546dd4fdf1d",
   "metadata": {},
   "source": [
    "## Create transactions using WEB3 from Mnemonic Phrase"
   ]
  },
  {
   "cell_type": "code",
   "execution_count": 1,
   "id": "b6ad8c9f-f605-4722-84bc-84882ce40178",
   "metadata": {},
   "outputs": [],
   "source": [
    "# Initiate Imports\n",
    "import os\n",
    "from web3 import Web3\n",
    "from dotenv import load_dotenv, find_dotenv\n",
    "from web3.middleware import geth_poa_middleware\n",
    "from eth_account import Account\n",
    "from bit import wif_to_key\n",
    "\n",
    "from constants import *"
   ]
  },
  {
   "cell_type": "code",
   "execution_count": 2,
   "id": "e681750e-9f41-4f46-bc8a-69e70001350e",
   "metadata": {},
   "outputs": [
    {
     "data": {
      "text/plain": [
       "True"
      ]
     },
     "execution_count": 2,
     "metadata": {},
     "output_type": "execute_result"
    }
   ],
   "source": [
    "# Load and set environment variables\n",
    "load_dotenv('mnemonic.env')"
   ]
  },
  {
   "cell_type": "code",
   "execution_count": 3,
   "id": "e9771d6d-2139-4eb7-a434-f15de4f4d6af",
   "metadata": {},
   "outputs": [],
   "source": [
    "# Get Mnemomic code from .env\n",
    "mnemonic=os.getenv(\"MNEMONIC\")"
   ]
  },
  {
   "cell_type": "code",
   "execution_count": 4,
   "id": "8e1265d4-5233-4a10-877c-83c1299a235c",
   "metadata": {},
   "outputs": [],
   "source": [
    "# Connect to WEB3 for Ether Wallet Acoounnts Addresses \n",
    "\n",
    "w3 = Web3(Web3.HTTPProvider(\"http://127.0.0.1:8545\"))\n",
    "w3.middleware_onion.inject(geth_poa_middleware, layer=0)\n",
    "\n",
    "private_key = os.getenv(\"PRIVATE_KEY1\")"
   ]
  },
  {
   "cell_type": "code",
   "execution_count": 5,
   "id": "3e812467-36a2-4b0b-90a8-7b37b88ddf3f",
   "metadata": {},
   "outputs": [],
   "source": [
    "# Assign a Varible for the Ether Wallet Account\n",
    "ether_account = Account.from_key(private_key)"
   ]
  },
  {
   "cell_type": "code",
   "execution_count": 6,
   "id": "c34926ed-28cc-43aa-bec6-ed1a36958200",
   "metadata": {},
   "outputs": [],
   "source": [
    "# ether_account"
   ]
  },
  {
   "cell_type": "code",
   "execution_count": 7,
   "id": "5ac71cab-10d2-4efd-85cc-8c505e595dc2",
   "metadata": {},
   "outputs": [],
   "source": [
    "Account.enable_unaudited_hdwallet_features()"
   ]
  },
  {
   "cell_type": "code",
   "execution_count": 8,
   "id": "96da8fb3-75be-45be-993b-c106b2635cd5",
   "metadata": {},
   "outputs": [
    {
     "data": {
      "text/plain": [
       "'0xA3AA19bb77827b90ac394Db0768Ec76c4c1d483E'"
      ]
     },
     "execution_count": 8,
     "metadata": {},
     "output_type": "execute_result"
    }
   ],
   "source": [
    "# Create varibles for the first 2 Addresses from Mnemonic phrase\n",
    "ether_address1 = Account.from_mnemonic(mnemonic, account_path= \"m/44'/60'/0'/0/0\")\n",
    "ether_address1.address\n",
    "\n",
    "ether_address2 = Account.from_mnemonic(mnemonic, account_path= \"m/44'/60'/0'/0/1\")\n",
    "ether_address2.address\n",
    "\n",
    "# print the addresses \n",
    "#print(f'ADDRESS#1 - {ether_address1}')\n",
    "#print(f'ADDRESS#2 - {ether_address2}')"
   ]
  },
  {
   "cell_type": "code",
   "execution_count": 9,
   "id": "497fa699-3127-46c7-9ebe-fe9e1ffa56f4",
   "metadata": {},
   "outputs": [
    {
     "data": {
      "text/plain": [
       "'0xE72b2C4391a8D1Bd1e6A98D96978bfaA20d02B62'"
      ]
     },
     "execution_count": 9,
     "metadata": {},
     "output_type": "execute_result"
    }
   ],
   "source": [
    "ether_address1.address"
   ]
  },
  {
   "cell_type": "code",
   "execution_count": 10,
   "id": "1b676050-4d5e-48bd-96ee-5eb40c42f7a7",
   "metadata": {},
   "outputs": [],
   "source": [
    "# Create a raw transaction function using WEB3\n",
    "def create_raw_tx(account, recipient, amount):\n",
    "    gasEstimate = w3.eth.estimateGas(\n",
    "        {\"from\": account.address, \"to\": recipient, \"value\": amount}\n",
    "    )\n",
    "    return {\n",
    "        \"from\": account.address,\n",
    "        \"to\": recipient,\n",
    "        \"value\": amount,\n",
    "        \"gasPrice\": w3.eth.gasPrice,\n",
    "        \"gas\": gasEstimate,\n",
    "        \"nonce\": w3.eth.getTransactionCount(account.address),\n",
    "    }"
   ]
  },
  {
   "cell_type": "code",
   "execution_count": 11,
   "id": "e8911f04-8457-41c5-8b4e-8e331ef62362",
   "metadata": {},
   "outputs": [],
   "source": [
    "# Create a function to send the transaction\n",
    "def send_tx(account, recipient, amount):\n",
    "    tx = create_raw_tx(account, recipient, amount)\n",
    "    signed_tx = account.sign_transaction(tx)\n",
    "    result = w3.eth.sendRawTransaction(signed_tx.rawTransaction)\n",
    "    print(result.hex())\n",
    "    return result.hex()"
   ]
  },
  {
   "cell_type": "code",
   "execution_count": 15,
   "id": "e30763ae-ab02-4642-b3a8-bbfe4f8acf55",
   "metadata": {},
   "outputs": [
    {
     "name": "stdout",
     "output_type": "stream",
     "text": [
      "0x898aa5143880900d2e123ced343b1c3186d35e1178197e7277a12cf7488d2d45\n"
     ]
    }
   ],
   "source": [
    "# Send 5 Ethereum from account 2, to account 1 \n",
    "#first_tx = send_tx(ether_address2, ether_address1.address, 5000000000000000000)"
   ]
  },
  {
   "cell_type": "code",
   "execution_count": null,
   "id": "a3f052eb-af46-4d00-84a7-daea7a2e5abd",
   "metadata": {},
   "outputs": [],
   "source": []
  }
 ],
 "metadata": {
  "kernelspec": {
   "display_name": "Ethereum",
   "language": "python",
   "name": "ethereum"
  },
  "language_info": {
   "codemirror_mode": {
    "name": "ipython",
    "version": 3
   },
   "file_extension": ".py",
   "mimetype": "text/x-python",
   "name": "python",
   "nbconvert_exporter": "python",
   "pygments_lexer": "ipython3",
   "version": "3.7.10"
  }
 },
 "nbformat": 4,
 "nbformat_minor": 5
}
